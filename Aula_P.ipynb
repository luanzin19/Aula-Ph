{
  "nbformat": 4,
  "nbformat_minor": 0,
  "metadata": {
    "colab": {
      "provenance": [],
      "authorship_tag": "ABX9TyPVmfLrPZtN4p2OKjbmzg2G",
      "include_colab_link": true
    },
    "kernelspec": {
      "name": "python3",
      "display_name": "Python 3"
    },
    "language_info": {
      "name": "python"
    }
  },
  "cells": [
    {
      "cell_type": "markdown",
      "metadata": {
        "id": "view-in-github",
        "colab_type": "text"
      },
      "source": [
        "<a href=\"https://colab.research.google.com/github/luanzin19/Aula-Ph/blob/main/Aula_P.ipynb\" target=\"_parent\"><img src=\"https://colab.research.google.com/assets/colab-badge.svg\" alt=\"Open In Colab\"/></a>"
      ]
    },
    {
      "cell_type": "code",
      "execution_count": null,
      "metadata": {
        "colab": {
          "base_uri": "https://localhost:8080/"
        },
        "id": "uYvbCP1snwQT",
        "outputId": "f5143eed-fc2e-45a3-dc41-c450428897a3"
      },
      "outputs": [
        {
          "output_type": "stream",
          "name": "stdout",
          "text": [
            "True\n",
            "True\n",
            "False\n",
            "True\n",
            "False\n",
            "False\n",
            "True\n"
          ]
        }
      ],
      "source": [
        "#Tipos Boleanos\n",
        "\n",
        "print(100 == (50+50))\n",
        "print(100 >= (50+50))\n",
        "print(100 > (50+50))\n",
        "print(100 <= (50+50))\n",
        "print(100 > (50+50))\n",
        "print(100 != 50+50)\n",
        "print(100 != 90)\n",
        "\n"
      ]
    },
    {
      "cell_type": "code",
      "source": [
        "#idade\n",
        "\n",
        "\n",
        "idade = int(input('digite a idade: '))\n",
        "if(idade >= 16):\n",
        "  print(\"pode tirar habilitação\")\n",
        "else:\n",
        "  print(\"Não pode tirar habilitação\")\n",
        "\n",
        "\n",
        "\n",
        "\n",
        "\n",
        "\n",
        "\n",
        "\n",
        "\n",
        "\n",
        "\n",
        "\n"
      ],
      "metadata": {
        "colab": {
          "base_uri": "https://localhost:8080/"
        },
        "id": "ZlZuMuL_pl20",
        "outputId": "eccf31d4-d687-448f-ad9b-7ba7e49f26c7"
      },
      "execution_count": null,
      "outputs": [
        {
          "output_type": "stream",
          "name": "stdout",
          "text": [
            "digite a idade: 11\n",
            "Não pode tirar habilitação\n"
          ]
        }
      ]
    },
    {
      "cell_type": "code",
      "source": [
        "#posentadoria\n",
        "sexo = input('Digite F para mulher M para homem : ')\n",
        "idade = int(input(\"Digite sua idade :\"))\n",
        "\n",
        "if (sexo  == 'F' and idade >= 55) or (sexo  == 'M' and idade >= 60):\n",
        "  print('Pode tirar aponsetadoria!')\n",
        "else:\n",
        "  print('Não pode tirar aposentadoria')\n",
        "\n",
        "\n",
        "\n"
      ],
      "metadata": {
        "colab": {
          "base_uri": "https://localhost:8080/"
        },
        "id": "qwtMPYbDq6mq",
        "outputId": "0625dfa8-dec2-4ef9-e07e-bdc78b9f8bca"
      },
      "execution_count": null,
      "outputs": [
        {
          "output_type": "stream",
          "name": "stdout",
          "text": [
            "Digite F para mulher M para homem : M\n",
            "Digite sua idade :34\n",
            "Não pode tirar aposentadoria\n"
          ]
        }
      ]
    },
    {
      "cell_type": "code",
      "source": [
        "#A B C\n",
        "\n",
        "a = int(input(\"Digite o numero 1: \"))\n",
        "b = int(input(\"Digite o numero 2: \"))\n",
        "c = int(input(\"Digite o numero 3: \"))\n",
        "\n",
        "if(a + b < c):\n",
        "  print('A soma de A e B é menor que C')\n",
        "elif(a + b == c):\n",
        "  print('A soma de A e B é igual a C')\n",
        "else:\n",
        "  print(\"A soma de A e B maior que C\")\n"
      ],
      "metadata": {
        "colab": {
          "base_uri": "https://localhost:8080/"
        },
        "id": "3DJwMduJwieU",
        "outputId": "3833aa79-8a4f-4135-cf2c-1fbfba250f23"
      },
      "execution_count": null,
      "outputs": [
        {
          "output_type": "stream",
          "name": "stdout",
          "text": [
            "Digite o numero 1: 7\n",
            "Digite o numero 2: 7\n",
            "Digite o numero 3: 14\n",
            "A soma de A e B é igual a C\n"
          ]
        }
      ]
    },
    {
      "cell_type": "code",
      "source": [
        "#Algoritimo maior\n",
        "\n",
        "\n",
        "a = int(input(\"Digite o numero A: \"))\n",
        "b = int(input(\"Digite o numero B: \"))\n",
        "\n",
        "if(a > b ):\n",
        "  print('A é maior que B')\n",
        "\n",
        "elif(a == b ):\n",
        "  print('A é igual a B')\n",
        "\n",
        "else: \n",
        "  print('A é menor que B')\n",
        "\n"
      ],
      "metadata": {
        "colab": {
          "base_uri": "https://localhost:8080/"
        },
        "id": "7m0SASD5zXZa",
        "outputId": "9249e9aa-3e50-4bb5-bd50-27c76cdc1470"
      },
      "execution_count": null,
      "outputs": [
        {
          "output_type": "stream",
          "name": "stdout",
          "text": [
            "Digite o numero A: 4\n",
            "Digite o numero B: 5\n",
            "A é menor que B\n"
          ]
        }
      ]
    }
  ]
}