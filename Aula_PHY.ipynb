{
  "nbformat": 4,
  "nbformat_minor": 0,
  "metadata": {
    "colab": {
      "provenance": [],
      "authorship_tag": "ABX9TyNtBI4LVD+P0EfvvEZEze06",
      "include_colab_link": true
    },
    "kernelspec": {
      "name": "python3",
      "display_name": "Python 3"
    },
    "language_info": {
      "name": "python"
    }
  },
  "cells": [
    {
      "cell_type": "markdown",
      "metadata": {
        "id": "view-in-github",
        "colab_type": "text"
      },
      "source": [
        "<a href=\"https://colab.research.google.com/github/luanzin19/Aula-Ph/blob/main/Aula_PHY.ipynb\" target=\"_parent\"><img src=\"https://colab.research.google.com/assets/colab-badge.svg\" alt=\"Open In Colab\"/></a>"
      ]
    },
    {
      "cell_type": "code",
      "execution_count": 15,
      "metadata": {
        "colab": {
          "base_uri": "https://localhost:8080/"
        },
        "id": "1vlEKwnuYqEg",
        "outputId": "99167289-d51e-43ae-9682-01adb4224de4"
      },
      "outputs": [
        {
          "output_type": "stream",
          "name": "stdout",
          "text": [
            "Digite o valor 1: 3\n",
            "Digite o valor 2: 6\n",
            "O resultado da subtração é:  -3\n"
          ]
        }
      ],
      "source": [
        "#subtração \n",
        "\n",
        "a = int(input(\"Digite o valor 1: \"))\n",
        "b = int(input(\"Digite o valor 2: \"))\n",
        "c = a - b \n",
        "print(\"O resultado da subtração é: \", c)\n"
      ]
    },
    {
      "cell_type": "code",
      "source": [
        "#Mutiplicação\n",
        "a = int(input(\"Digite o valor 1: \"))\n",
        "b = int(input(\"Digite o valor 2: \"))\n",
        "c = a * b \n",
        "print(\"O resultado da mutiplicação é: \", c)\n"
      ],
      "metadata": {
        "colab": {
          "base_uri": "https://localhost:8080/"
        },
        "id": "RUJWyLSyZ4Bv",
        "outputId": "ca8904d2-11f4-43bd-8e01-da23a8521ded"
      },
      "execution_count": 14,
      "outputs": [
        {
          "output_type": "stream",
          "name": "stdout",
          "text": [
            "Digite o valor 1: 5\n",
            "Digite o valor 2: 5\n",
            "O resultado da subtração é:  25\n"
          ]
        }
      ]
    },
    {
      "cell_type": "code",
      "source": [
        "a = int(input(\"Digite o valor 1: \"))\n",
        "b = int(input(\"Digite o valor 2: \"))\n",
        "c = a / b \n",
        "print(\"O resultado da divisão é: \", c)\n"
      ],
      "metadata": {
        "colab": {
          "base_uri": "https://localhost:8080/"
        },
        "id": "icfopZIDaCxm",
        "outputId": "b5624301-24ea-4371-d15a-106b4208fc75"
      },
      "execution_count": 21,
      "outputs": [
        {
          "output_type": "stream",
          "name": "stdout",
          "text": [
            "Digite o valor 1: 9\n",
            "Digite o valor 2: 3\n",
            "O resultado da divisão é:  3.0\n"
          ]
        }
      ]
    }
  ]
}