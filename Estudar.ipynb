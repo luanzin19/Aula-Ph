{
  "nbformat": 4,
  "nbformat_minor": 0,
  "metadata": {
    "colab": {
      "provenance": [],
      "authorship_tag": "ABX9TyOLG6TzhIuq2E/AtzlQYdNs",
      "include_colab_link": true
    },
    "kernelspec": {
      "name": "python3",
      "display_name": "Python 3"
    },
    "language_info": {
      "name": "python"
    }
  },
  "cells": [
    {
      "cell_type": "markdown",
      "metadata": {
        "id": "view-in-github",
        "colab_type": "text"
      },
      "source": [
        "<a href=\"https://colab.research.google.com/github/luanzin19/Aula-Ph/blob/main/Estudar.ipynb\" target=\"_parent\"><img src=\"https://colab.research.google.com/assets/colab-badge.svg\" alt=\"Open In Colab\"/></a>"
      ]
    },
    {
      "cell_type": "code",
      "execution_count": 5,
      "metadata": {
        "id": "Ve2f9zZTCho9",
        "colab": {
          "base_uri": "https://localhost:8080/"
        },
        "outputId": "2445697b-6293-4a7d-b3d7-c96fbab3a7c9"
      },
      "outputs": [
        {
          "output_type": "execute_result",
          "data": {
            "text/plain": [
              "[1, 2, 3, 5, 6, 8, 19]"
            ]
          },
          "metadata": {},
          "execution_count": 5
        }
      ],
      "source": [
        "numeros = [1 ,2 ,3, 4, 5, 6, 8, 19, 23]\n",
        "numeros.remove(numeros[3])\n",
        "\n",
        "numeros.pop()\n",
        "\n",
        "numeros\n"
      ]
    },
    {
      "cell_type": "code",
      "source": [
        "numeros1 = [1 ,4 ,5 ,6 ,90 ,30 ,23]\n",
        "\n",
        "\n",
        "\n"
      ],
      "metadata": {
        "id": "stwlLQBVMgTv"
      },
      "execution_count": 7,
      "outputs": []
    },
    {
      "cell_type": "code",
      "source": [
        "numeros1.append(2)\n",
        "numeros1"
      ],
      "metadata": {
        "colab": {
          "base_uri": "https://localhost:8080/"
        },
        "id": "hxbUv7BNMpI2",
        "outputId": "03738dd2-c8fd-48ff-c6cc-4f3d375bad3c"
      },
      "execution_count": 11,
      "outputs": [
        {
          "output_type": "execute_result",
          "data": {
            "text/plain": [
              "[1, 4, 5, 6, 90, 30, 23, 2, 2, '2', 2]"
            ]
          },
          "metadata": {},
          "execution_count": 11
        }
      ]
    },
    {
      "cell_type": "code",
      "source": [
        "numero1 = int(input(\"Digite o numero 1: \"))\n",
        "numero2 = int(input(\"Digite o numero 2: \"))\n",
        "numero3 = int(input(\"Digite o numero 3: \"))\n",
        "\n",
        "resultado = (numero1 + numero2 + numero3 /3)\n",
        "print(resultado)\n"
      ],
      "metadata": {
        "colab": {
          "base_uri": "https://localhost:8080/"
        },
        "id": "8GPiGUNeM1fG",
        "outputId": "02c6c021-44f5-4586-bcef-597af6e31e86"
      },
      "execution_count": 14,
      "outputs": [
        {
          "output_type": "stream",
          "name": "stdout",
          "text": [
            "Digite o numero 1: 4\n",
            "Digite o numero 2: 7\n",
            "Digite o numero 3: 3\n",
            "12.0\n"
          ]
        }
      ]
    },
    {
      "cell_type": "code",
      "source": [
        "numeros44 = [4 ,6 ,7 ,8 ,9]\n",
        "\n",
        "numeros0 = list(filter(lambda  x : x > 6 , numeros44 ))\n",
        "numeros0"
      ],
      "metadata": {
        "colab": {
          "base_uri": "https://localhost:8080/"
        },
        "id": "L9pABbPuNXIH",
        "outputId": "4f9a3027-0ccf-47fb-a497-e628d7542ad7"
      },
      "execution_count": 48,
      "outputs": [
        {
          "output_type": "execute_result",
          "data": {
            "text/plain": [
              "[7, 8, 9]"
            ]
          },
          "metadata": {},
          "execution_count": 48
        }
      ]
    },
    {
      "cell_type": "code",
      "source": [
        "notas = [1, 6, 9, 8 , 4, 10, 2, 3]\n",
        "\n",
        "notasT = list(filter(lambda x  : x > 6 , notas))\n",
        "notasT\n"
      ],
      "metadata": {
        "colab": {
          "base_uri": "https://localhost:8080/"
        },
        "id": "nFAEGpIsQcLo",
        "outputId": "49b69f8e-69c9-4dbb-f15d-921d410f1a82"
      },
      "execution_count": 44,
      "outputs": [
        {
          "output_type": "execute_result",
          "data": {
            "text/plain": [
              "[9, 8, 10]"
            ]
          },
          "metadata": {},
          "execution_count": 44
        }
      ]
    },
    {
      "cell_type": "code",
      "source": [
        "numeros55 = [34, 56 , 100 , 3004 , 300, 202 , 153 ,123]\n",
        "\n",
        "numeros9 = list(filter(lambda x : x > 100 , numeros55))\n",
        "numeros9"
      ],
      "metadata": {
        "colab": {
          "base_uri": "https://localhost:8080/"
        },
        "id": "JJA3UJXERHTX",
        "outputId": "ad2730cc-c854-436c-d0a0-5ae2acba0d74"
      },
      "execution_count": 51,
      "outputs": [
        {
          "output_type": "execute_result",
          "data": {
            "text/plain": [
              "[3004, 300, 202, 153, 123]"
            ]
          },
          "metadata": {},
          "execution_count": 51
        }
      ]
    }
  ]
}