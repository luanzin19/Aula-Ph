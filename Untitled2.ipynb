{
  "nbformat": 4,
  "nbformat_minor": 0,
  "metadata": {
    "colab": {
      "provenance": [],
      "authorship_tag": "ABX9TyP5pPww46wKBdStwnCfFRT5",
      "include_colab_link": true
    },
    "kernelspec": {
      "name": "python3",
      "display_name": "Python 3"
    },
    "language_info": {
      "name": "python"
    }
  },
  "cells": [
    {
      "cell_type": "markdown",
      "metadata": {
        "id": "view-in-github",
        "colab_type": "text"
      },
      "source": [
        "<a href=\"https://colab.research.google.com/github/luanzin19/Aula-Ph/blob/main/Untitled2.ipynb\" target=\"_parent\"><img src=\"https://colab.research.google.com/assets/colab-badge.svg\" alt=\"Open In Colab\"/></a>"
      ]
    },
    {
      "cell_type": "code",
      "execution_count": 27,
      "metadata": {
        "colab": {
          "base_uri": "https://localhost:8080/"
        },
        "id": "97y4XuKTw9Kq",
        "outputId": "40416a10-062d-407a-c706-48137c9a3820"
      },
      "outputs": [
        {
          "output_type": "stream",
          "name": "stdout",
          "text": [
            "Chute um numero entre 0 e 100: 45\n",
            "chute um numero entre 45 e 100: 66\n",
            "chute um numero entre 66 e 100: 77\n",
            "chute um numero entre 77 e 100: 87\n",
            "chute um numero entre 77 e 87: 85\n",
            "chute um numero entre 77 e 85: 83\n",
            "chute um numero entre 77 e 83: 80\n",
            "chute um numero entre 77 e 80: 79\n",
            "ACERTOU! EM 8 tentativas\n"
          ]
        }
      ],
      "source": [
        "#jogoPython\n",
        "import random\n",
        "num = random.randrange(101)\n",
        "minimo = 0 \n",
        "maximo = 100\n",
        "pitaco = int(input(f'Chute um numero entre {minimo} e {maximo}: '))\n",
        "cont = 1 \n",
        "\n",
        "while(num != pitaco):\n",
        " if(pitaco > num):\n",
        "   maximo = pitaco\n",
        " else:\n",
        "  minimo = pitaco\n",
        " pitaco = int(input(f'chute um numero entre {minimo} e {maximo}: '))\n",
        " cont+=1\n",
        "\n",
        "\n",
        "\n",
        "print(f'ACERTOU! EM {cont} tentativas')"
      ]
    },
    {
      "cell_type": "code",
      "source": [
        "#Chamando Função\n",
        "def pF(nome, cargo):\n",
        "\n",
        " print('Olá' ' ' +  nome +  cargo )\n"
      ],
      "metadata": {
        "id": "an3EU0ew36uQ"
      },
      "execution_count": 59,
      "outputs": []
    },
    {
      "cell_type": "code",
      "source": [
        "pF('Luan' , 'Ministro')\n"
      ],
      "metadata": {
        "colab": {
          "base_uri": "https://localhost:8080/"
        },
        "id": "Eae-v3pB4HFm",
        "outputId": "67708199-a77b-47bd-f0d5-231b22ae797c"
      },
      "execution_count": 61,
      "outputs": [
        {
          "output_type": "stream",
          "name": "stdout",
          "text": [
            "Olá LuanMinistro\n"
          ]
        }
      ]
    },
    {
      "cell_type": "code",
      "source": [
        "idade = int(input('Digite sua data de nascimento:' ))\n",
        "\n",
        "print( 2023 - idade)\n"
      ],
      "metadata": {
        "colab": {
          "base_uri": "https://localhost:8080/"
        },
        "id": "yBpfB_Hs74o7",
        "outputId": "c479e572-dbf1-4cad-f1c1-81c6724d9310"
      },
      "execution_count": 66,
      "outputs": [
        {
          "output_type": "stream",
          "name": "stdout",
          "text": [
            "Digite sua data de nascimento:2003\n",
            "20\n"
          ]
        }
      ]
    },
    {
      "cell_type": "code",
      "source": [
        "def media(*notas):\n",
        " \n",
        " soma = 0\n",
        " for nota in notas:\n",
        "  soma += nota\n",
        " print(soma / len(notas))"
      ],
      "metadata": {
        "id": "pOwlL6QH8jgj"
      },
      "execution_count": 105,
      "outputs": []
    },
    {
      "cell_type": "code",
      "source": [
        "media(8,6,9,5,9)"
      ],
      "metadata": {
        "colab": {
          "base_uri": "https://localhost:8080/"
        },
        "id": "EjT5YPtU9mhR",
        "outputId": "c1c95a3c-1838-47a4-bb63-da73d35ad006"
      },
      "execution_count": 106,
      "outputs": [
        {
          "output_type": "stream",
          "name": "stdout",
          "text": [
            "7.4\n"
          ]
        }
      ]
    },
    {
      "cell_type": "code",
      "source": [
        "def peso(peso, altura):\n",
        " return peso/altura**2"
      ],
      "metadata": {
        "id": "y8TBC8e4EX0e"
      },
      "execution_count": 171,
      "outputs": []
    },
    {
      "cell_type": "code",
      "source": [],
      "metadata": {
        "id": "51zq9QjSH7UC"
      },
      "execution_count": null,
      "outputs": []
    }
  ]
}