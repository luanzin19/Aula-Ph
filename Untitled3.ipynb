{
  "nbformat": 4,
  "nbformat_minor": 0,
  "metadata": {
    "colab": {
      "provenance": [],
      "authorship_tag": "ABX9TyPGynjQLQofeM+7XkLWksZY",
      "include_colab_link": true
    },
    "kernelspec": {
      "name": "python3",
      "display_name": "Python 3"
    },
    "language_info": {
      "name": "python"
    }
  },
  "cells": [
    {
      "cell_type": "markdown",
      "metadata": {
        "id": "view-in-github",
        "colab_type": "text"
      },
      "source": [
        "<a href=\"https://colab.research.google.com/github/luanzin19/Aula-Ph/blob/main/Untitled3.ipynb\" target=\"_parent\"><img src=\"https://colab.research.google.com/assets/colab-badge.svg\" alt=\"Open In Colab\"/></a>"
      ]
    },
    {
      "cell_type": "code",
      "execution_count": 12,
      "metadata": {
        "colab": {
          "base_uri": "https://localhost:8080/"
        },
        "id": "HvtLD6CZ1u64",
        "outputId": "8199c972-22a5-47f9-e0cb-a7803bc97d83"
      },
      "outputs": [
        {
          "output_type": "execute_result",
          "data": {
            "text/plain": [
              "['zé', 'isabell', 'Maria', 'julia']"
            ]
          },
          "metadata": {},
          "execution_count": 12
        }
      ],
      "source": [
        "nomes = [\"zé\" , \"isabell\" , \"Maria\"]\n",
        "\n",
        "nomes.append(\"julia\")\n",
        "nomes\n",
        "\n"
      ]
    },
    {
      "cell_type": "code",
      "source": [
        "outrosNomes = [\"carlos\" , \"daniel\" , \"luan\"]\n",
        "nomes.extend(outrosNomes)\n",
        "\n",
        "nomes"
      ],
      "metadata": {
        "colab": {
          "base_uri": "https://localhost:8080/"
        },
        "id": "5psgwd6d8zR_",
        "outputId": "28161d56-ed62-43ab-e4bf-4b0568732410"
      },
      "execution_count": 13,
      "outputs": [
        {
          "output_type": "execute_result",
          "data": {
            "text/plain": [
              "['zé', 'isabell', 'Maria', 'julia', 'carlos', 'daniel', 'luan']"
            ]
          },
          "metadata": {},
          "execution_count": 13
        }
      ]
    },
    {
      "cell_type": "code",
      "source": [
        "numeros = [1 ,2 ,3, 4, 5, 6, 8, 19, 23]\n",
        "numeros.remove(numeros[1])\n",
        "\n",
        "numeros.pop()\n",
        "\n",
        "numeros\n",
        "\n"
      ],
      "metadata": {
        "colab": {
          "base_uri": "https://localhost:8080/"
        },
        "id": "atPmFYQl-YJB",
        "outputId": "6c926d45-4b92-4eb2-b8ea-7efed2c2d4f5"
      },
      "execution_count": 26,
      "outputs": [
        {
          "output_type": "execute_result",
          "data": {
            "text/plain": [
              "[1, 3, 4, 5, 6, 8, 19]"
            ]
          },
          "metadata": {},
          "execution_count": 26
        }
      ]
    },
    {
      "cell_type": "code",
      "source": [
        "notas = [2, 3, 45, 23, 35, 89]\n",
        "nomes = ['Ademar', \"Marivaldo\", \"calin\"]\n",
        "\n",
        "notas.sort()\n",
        "nomes.sort()\n",
        "\n",
        "\n",
        "notas\n",
        "nomes"
      ],
      "metadata": {
        "colab": {
          "base_uri": "https://localhost:8080/"
        },
        "id": "1dAEIYiS_3nr",
        "outputId": "59c914c4-cce7-4ce1-9e67-9e22b2e632f3"
      },
      "execution_count": 32,
      "outputs": [
        {
          "output_type": "execute_result",
          "data": {
            "text/plain": [
              "['Ademar', 'Marivaldo', 'calin']"
            ]
          },
          "metadata": {},
          "execution_count": 32
        }
      ]
    },
    {
      "cell_type": "code",
      "source": [
        "numeros = [2, 3 , 9, 6, 4]\n",
        "\n",
        "lista = list(map(lambda x : x*2, numeros))\n",
        "\n",
        "lista"
      ],
      "metadata": {
        "colab": {
          "base_uri": "https://localhost:8080/"
        },
        "id": "teDcQVoACe5s",
        "outputId": "dad61d31-1a58-4461-c2e3-415f058855da"
      },
      "execution_count": 36,
      "outputs": [
        {
          "output_type": "execute_result",
          "data": {
            "text/plain": [
              "[4, 6, 18, 12, 8]"
            ]
          },
          "metadata": {},
          "execution_count": 36
        }
      ]
    },
    {
      "cell_type": "code",
      "source": [
        "\n",
        "lista = list(map(lambda x : x/2, numeros))\n",
        "lista"
      ],
      "metadata": {
        "colab": {
          "base_uri": "https://localhost:8080/"
        },
        "id": "lEV-hghCDNiV",
        "outputId": "efcec093-a358-4823-e244-c83abfe36193"
      },
      "execution_count": 39,
      "outputs": [
        {
          "output_type": "execute_result",
          "data": {
            "text/plain": [
              "[1.0, 1.5, 4.5, 3.0, 2.0]"
            ]
          },
          "metadata": {},
          "execution_count": 39
        }
      ]
    },
    {
      "cell_type": "code",
      "source": [
        "nomes = [\"zé\" , \"isabell\" , \"Maria\", \"Eduardo\", \"Luan\"]\n",
        "\n",
        "\n",
        "\n",
        "newlist = list(filter(lambda x : len(x)>5, nomes))\n",
        "newlist"
      ],
      "metadata": {
        "colab": {
          "base_uri": "https://localhost:8080/"
        },
        "id": "UzQ5pXYtE9Bt",
        "outputId": "a6739363-ea8b-45f9-d3a5-e0b16d0049dc"
      },
      "execution_count": 42,
      "outputs": [
        {
          "output_type": "execute_result",
          "data": {
            "text/plain": [
              "['isabell', 'Eduardo']"
            ]
          },
          "metadata": {},
          "execution_count": 42
        }
      ]
    },
    {
      "cell_type": "code",
      "source": [
        "notas = [1, 6, 9, 8 , 4, 10, 2, 3]\n",
        "\n",
        "notasT = list(filter(lambda x  : x > 6 , notas))\n",
        "notasT\n"
      ],
      "metadata": {
        "colab": {
          "base_uri": "https://localhost:8080/"
        },
        "id": "gbYCMa04GIQF",
        "outputId": "5216433c-39e8-4e55-a9c9-995e6a19a758"
      },
      "execution_count": 61,
      "outputs": [
        {
          "output_type": "execute_result",
          "data": {
            "text/plain": [
              "[9, 8, 10]"
            ]
          },
          "metadata": {},
          "execution_count": 61
        }
      ]
    },
    {
      "cell_type": "code",
      "source": [
        "numeros = [2, 3 , 9, 6, 4]\n",
        "\n",
        "lista = list(map(lambda x : x*x, numeros))\n",
        "\n",
        "lista"
      ],
      "metadata": {
        "colab": {
          "base_uri": "https://localhost:8080/"
        },
        "id": "K6edz-YHImv9",
        "outputId": "62499b07-decb-4e79-99ab-e2864086c723"
      },
      "execution_count": 62,
      "outputs": [
        {
          "output_type": "execute_result",
          "data": {
            "text/plain": [
              "[4, 9, 81, 36, 16]"
            ]
          },
          "metadata": {},
          "execution_count": 62
        }
      ]
    },
    {
      "cell_type": "code",
      "source": [],
      "metadata": {
        "id": "ew9lTrbDJd0M"
      },
      "execution_count": null,
      "outputs": []
    }
  ]
}