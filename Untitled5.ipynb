{
  "nbformat": 4,
  "nbformat_minor": 0,
  "metadata": {
    "colab": {
      "provenance": [],
      "authorship_tag": "ABX9TyMfR01dLPZMN7qbRIU6aMeE",
      "include_colab_link": true
    },
    "kernelspec": {
      "name": "python3",
      "display_name": "Python 3"
    },
    "language_info": {
      "name": "python"
    }
  },
  "cells": [
    {
      "cell_type": "markdown",
      "metadata": {
        "id": "view-in-github",
        "colab_type": "text"
      },
      "source": [
        "<a href=\"https://colab.research.google.com/github/luanzin19/Aula-Ph/blob/main/Untitled5.ipynb\" target=\"_parent\"><img src=\"https://colab.research.google.com/assets/colab-badge.svg\" alt=\"Open In Colab\"/></a>"
      ]
    },
    {
      "cell_type": "code",
      "execution_count": 8,
      "metadata": {
        "id": "skM8wr71SUSm"
      },
      "outputs": [],
      "source": [
        "pessoas  = [\"luan\" ,\"carlos\"  ,\"daniel\"  ,\"MARCIO\"  ]"
      ]
    },
    {
      "cell_type": "code",
      "source": [
        "pessoas.append (\"salsa\")\n",
        "pessoas"
      ],
      "metadata": {
        "colab": {
          "base_uri": "https://localhost:8080/"
        },
        "id": "NPUGOY0PS7CJ",
        "outputId": "9082a6cc-ffc8-42a7-9012-07800a3fccee"
      },
      "execution_count": 9,
      "outputs": [
        {
          "output_type": "execute_result",
          "data": {
            "text/plain": [
              "['luan', 'carlos', 'daniel', 'MARCIO', 'salsa']"
            ]
          },
          "metadata": {},
          "execution_count": 9
        }
      ]
    },
    {
      "cell_type": "code",
      "source": [
        "numeros1 = 2\n",
        "\n",
        "numeros2 = 4 \n",
        "\n",
        "numeros3 = 6\n",
        "\n",
        "\n",
        "resultado = numeros1 + numeros2 + numeros3 /3\n",
        " \n",
        "if resultado  > 5:\n",
        "  print('VERDADEIRO')\n",
        "\n",
        "else:\n",
        "  print('FALSO')\n",
        "\n"
      ],
      "metadata": {
        "colab": {
          "base_uri": "https://localhost:8080/"
        },
        "id": "CwZc4IX9VBOC",
        "outputId": "0e0509f1-b5b8-4f4d-e922-dc853b2e3530"
      },
      "execution_count": 28,
      "outputs": [
        {
          "output_type": "stream",
          "name": "stdout",
          "text": [
            "VERDADEIRO\n"
          ]
        }
      ]
    }
  ]
}