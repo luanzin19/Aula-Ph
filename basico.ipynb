{
  "nbformat": 4,
  "nbformat_minor": 0,
  "metadata": {
    "colab": {
      "provenance": [],
      "authorship_tag": "ABX9TyMACsEyqSA/ThpILri/Xu3y",
      "include_colab_link": true
    },
    "kernelspec": {
      "name": "python3",
      "display_name": "Python 3"
    },
    "language_info": {
      "name": "python"
    }
  },
  "cells": [
    {
      "cell_type": "markdown",
      "metadata": {
        "id": "view-in-github",
        "colab_type": "text"
      },
      "source": [
        "<a href=\"https://colab.research.google.com/github/luanzin19/Aula-Ph/blob/main/basico.ipynb\" target=\"_parent\"><img src=\"https://colab.research.google.com/assets/colab-badge.svg\" alt=\"Open In Colab\"/></a>"
      ]
    },
    {
      "cell_type": "code",
      "execution_count": 7,
      "metadata": {
        "id": "T3klTEt4U20c",
        "colab": {
          "base_uri": "https://localhost:8080/"
        },
        "outputId": "1c07710a-7f6e-4c23-cb53-9efdb1f5bb15"
      },
      "outputs": [
        {
          "output_type": "stream",
          "name": "stdout",
          "text": [
            "qual ano você nasceu 2003\n",
            "20\n"
          ]
        }
      ],
      "source": [
        "#idade\n",
        "\n",
        "a = 2023\n",
        "b = int(input('qual ano você nasceu ' ))\n",
        "c = a - b\n",
        "\n",
        "print(c)"
      ]
    }
  ]
}